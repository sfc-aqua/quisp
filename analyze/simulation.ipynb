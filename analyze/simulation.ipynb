{
 "cells": [
  {
   "cell_type": "code",
   "execution_count": null,
   "metadata": {},
   "outputs": [],
   "source": [
    "%%capture\n",
    "%pip install pandas matplotlib plotly 'nbformat>=4.2.0' 'ipywidgets>=7.6'\n",
    "%load_ext autoreload\n",
    "%autoreload 2"
   ]
  },
  {
   "cell_type": "code",
   "execution_count": null,
   "metadata": {},
   "outputs": [],
   "source": [
    "import pandas as pd\n",
    "from matplotlib import pyplot as plt\n",
    "import plotly.express as px\n",
    "import plotly.graph_objects as go\n",
    "\n",
    "from quisp import QNode, Network, ChannelOption, QNodeAddr, NativeSimulator, Config, NetworkBuilder, LinkType\n",
    "def count_rulesets_by_responders(df):\n",
    "    # actual_src_addr is responder\n",
    "    # the counts means the number of RSs the responder generated\n",
    "    return df[df['msg_type'] == 'ConnectionSetupResponse'].groupby(\"actual_src_addr\").size().reset_index(name='counts')"
   ]
  },
  {
   "cell_type": "code",
   "execution_count": null,
   "metadata": {},
   "outputs": [],
   "source": [
    "n = NetworkBuilder(\"simple_7nodes_internetworking\")\n",
    "n.add_qnode([QNodeAddr(1,1), QNodeAddr(3,1)], is_initiator=True)\n",
    "n.add_qnode([QNodeAddr(3,2)])\n",
    "n.add_qnode([QNodeAddr(3,3)])\n",
    "n.add_qnode([QNodeAddr(3,4)])\n",
    "n.add_qnode([QNodeAddr(3,5)])\n",
    "n.add_qnode([QNodeAddr(1,99),QNodeAddr(3,99)])\n",
    "n.add_qnode([QNodeAddr(2,99),QNodeAddr(4,99)])\n",
    "n.add_qnode([QNodeAddr(4,2)])\n",
    "n.add_qnode([QNodeAddr(4,3), QNodeAddr(5,1)])\n",
    "n.add_qnode([QNodeAddr(5,2)])\n",
    "n.add_qnode([QNodeAddr(5,3)])\n",
    "n.add_qnode([QNodeAddr(4,4), QNodeAddr(5,99)])\n",
    "n.add_qnode([QNodeAddr(4,5)])\n",
    "n.add_qnode([QNodeAddr(2,1), QNodeAddr(4,1)], is_resipient=True)\n",
    "n.connect_linear(ChannelOption(quantum_channel_distance=5, classical_channel_distance=5))\n",
    "network = n.network\n",
    "\n",
    "sim = NativeSimulator(\"../quisp\")\n",
    "sim.load(network)\n",
    "await sim.run()\n",
    "sim.read_result()\n",
    "sim.df[sim.df['msg_type'] == 'ConnectionSetupResponse']"
   ]
  },
  {
   "cell_type": "code",
   "execution_count": null,
   "metadata": {},
   "outputs": [],
   "source": [
    "\n",
    "count_rulesets_by_responders(sim.df)"
   ]
  }
 ],
 "metadata": {
  "kernelspec": {
   "display_name": ".venv",
   "language": "python",
   "name": "python3"
  },
  "language_info": {
   "codemirror_mode": {
    "name": "ipython",
    "version": 3
   },
   "file_extension": ".py",
   "mimetype": "text/x-python",
   "name": "python",
   "nbconvert_exporter": "python",
   "pygments_lexer": "ipython3",
   "version": "3.9.16"
  },
  "orig_nbformat": 4
 },
 "nbformat": 4,
 "nbformat_minor": 2
}
