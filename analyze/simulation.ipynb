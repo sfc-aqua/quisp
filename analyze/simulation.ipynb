{
 "cells": [
  {
   "cell_type": "code",
   "execution_count": null,
   "metadata": {},
   "outputs": [],
   "source": [
    "%%capture\n",
    "%pip install pandas matplotlib plotly 'nbformat>=4.2.0' 'ipywidgets>=7.6'\n",
    "%load_ext autoreload\n",
    "%autoreload 2"
   ]
  },
  {
   "cell_type": "code",
   "execution_count": null,
   "metadata": {},
   "outputs": [],
   "source": [
    "import pandas as pd\n",
    "from matplotlib import pyplot as plt\n",
    "import plotly.express as px\n",
    "import plotly.graph_objects as go\n",
    "\n",
    "from quisp import (\n",
    "    QNode,\n",
    "    Network,\n",
    "    ChannelOption,\n",
    "    QNodeAddr,\n",
    "    NativeSimulator,\n",
    "    Config,\n",
    "    NetworkBuilder,\n",
    "    LinkType,\n",
    ")\n",
    "\n",
    "from analysis_utils import count_rulesets_by_responders"
   ]
  },
  {
   "cell_type": "code",
   "execution_count": null,
   "metadata": {},
   "outputs": [],
   "source": [
    "n = NetworkBuilder(\"simple_7nodes_internetworking\")\n",
    "n.add_qnode([QNodeAddr(1,1), QNodeAddr(3,1)], is_initiator=True)\n",
    "n.add_qnode([QNodeAddr(3,2)])\n",
    "n.add_qnode([QNodeAddr(3,3)])\n",
    "n.add_qnode([QNodeAddr(3,4)])\n",
    "n.add_qnode([QNodeAddr(3,5)])\n",
    "n.add_qnode([QNodeAddr(1,99),QNodeAddr(3,99)])\n",
    "n.add_qnode([QNodeAddr(2,99),QNodeAddr(4,99)])\n",
    "n.add_qnode([QNodeAddr(4,2)])\n",
    "n.add_qnode([QNodeAddr(4,3), QNodeAddr(5,1)])\n",
    "n.add_qnode([QNodeAddr(5,2)])\n",
    "n.add_qnode([QNodeAddr(5,3)])\n",
    "n.add_qnode([QNodeAddr(4,4), QNodeAddr(5,99)])\n",
    "n.add_qnode([QNodeAddr(4,5)])\n",
    "n.add_qnode([QNodeAddr(2,1), QNodeAddr(4,1)], is_resipient=True)\n",
    "n.connect_linear(ChannelOption(quantum_channel_distance=5, classical_channel_distance=5))\n",
    "network = n.network\n",
    "\n",
    "sim = NativeSimulator(\"../quisp\")\n",
    "sim.load(network)\n",
    "await sim.run()\n",
    "sim.read_result()\n",
    "sim.df[sim.df['msg_type'] == 'ConnectionSetupResponse']"
   ]
  },
  {
   "cell_type": "code",
   "execution_count": null,
   "metadata": {},
   "outputs": [],
   "source": [
    "\n",
    "count_rulesets_by_responders(sim.df)"
   ]
  },
  {
   "cell_type": "code",
   "execution_count": null,
   "metadata": {},
   "outputs": [],
   "source": []
  },
  {
   "cell_type": "code",
   "execution_count": null,
   "metadata": {},
   "outputs": [],
   "source": [
    "def generate_network(num_nodes: \"int\", num_subnets: \"int\") ->\"Network\":\n",
    "    assert num_nodes >= 2\n",
    "    assert num_subnets >= 0\n",
    "    subnet_size = num_nodes // num_subnets if num_subnets != 0 else 0\n",
    "\n",
    "    n = NetworkBuilder(f\"linear_{num_nodes}nodes_{num_subnets}subnets_internetworking\")\n",
    "    network_addr = 1\n",
    "    subnet_addr = num_subnets * 2\n",
    "    for i in range(1, num_nodes+1):\n",
    "        addr_list = [QNodeAddr(network_addr, i)]\n",
    "        if subnet_size > 0:\n",
    "            if i % subnet_size == 1: # new subnet starts\n",
    "                network_addr += 1\n",
    "                subnet_addr += 1\n",
    "                addr_list.append(QNodeAddr(subnet_addr, i))\n",
    "            elif i % subnet_size == 0: # end of subnets\n",
    "                network_addr += 1\n",
    "                addr_list.append(QNodeAddr(subnet_addr, i))\n",
    "            else: # in subnet, no top level addr\n",
    "                addr_list = [QNodeAddr(subnet_addr, i)]\n",
    "        \n",
    "        n.add_qnode(addr_list, is_initiator=(i == 1), is_resipient=(i == num_nodes))\n",
    "    n.connect_linear(ChannelOption(quantum_channel_distance=5, classical_channel_distance=5))\n",
    "    return n.network\n"
   ]
  },
  {
   "cell_type": "code",
   "execution_count": null,
   "metadata": {},
   "outputs": [],
   "source": [
    "df = sim.df.drop([\"qnic_type\", \"qnic_index\", \"qubit_index\", \"application_id\", \"application_type\" , \"event_type\", \"partner_addr\"], axis=1)\n",
    "\n",
    "df = df.astype({\"simtime\":\"float32\", \"actual_dest_addr\": \"string\", \"actual_src_addr\":\"string\"})\n",
    "df = df[(df[\"actual_dest_addr\"] == df[\"address\"]) | (df[\"msg_type\"] == \"ConnectionSetupRequest\")]\n",
    "df.head(23)"
   ]
  },
  {
   "cell_type": "code",
   "execution_count": null,
   "metadata": {},
   "outputs": [],
   "source": [
    "sims= dict()\n",
    "\n",
    "for num_nodes in [5,10, 15, 20, 25, 30, 35, 40, 45, 50]:\n",
    "    for num_subnets in [0, 1,2,3,4,5]: #range(0, num_nodes // 3, 4):\n",
    "        if num_subnets * 3 > num_nodes:\n",
    "            continue\n",
    "        network = generate_network(num_nodes=num_nodes, num_subnets=num_subnets)\n",
    "        key = network.name\n",
    "        sims[key] = {\n",
    "            \"network_name\": key,\n",
    "            \"network\": network,\n",
    "            \"num_nodes\": num_nodes,\n",
    "            \"num_subnets\": num_subnets,\n",
    "            \"error\": None\n",
    "        }\n",
    "        \n",
    "for k in sims:\n",
    "    print(k)\n",
    "\n",
    "print(len(sims), \"networks\")"
   ]
  },
  {
   "cell_type": "code",
   "execution_count": null,
   "metadata": {},
   "outputs": [],
   "source": [
    "for key in sims:\n",
    "    sim = NativeSimulator(\"../quisp\")\n",
    "    try:\n",
    "        sim.load(sims[key][\"network\"])\n",
    "        sims[key][\"ned_dump\"]= sim.network.dump()\n",
    "        sims[key][\"ini_dump\"]= sim.config.dump()\n",
    "        await sim.run()\n",
    "    except RuntimeError:\n",
    "        sims[key][\"error\"] = sim.error_messages\n",
    "    sim.read_result()\n",
    "    sims[key][\"df\"] = sim.df.copy()\n",
    "    sims[key][\"num_rulesets_df\"] = count_rulesets_by_responders(sim.df)\n",
    "    print(count_rulesets_by_responders(sim.df))"
   ]
  },
  {
   "cell_type": "code",
   "execution_count": null,
   "metadata": {},
   "outputs": [],
   "source": [
    "df_sims = pd.DataFrame(\n",
    "    [\n",
    "        [\n",
    "            key,\n",
    "            sims[key][\"num_nodes\"],\n",
    "            sims[key][\"num_subnets\"],\n",
    "            sims[key][\"num_rulesets_df\"][\"counts\"].min(),\n",
    "            sims[key][\"num_rulesets_df\"][\"counts\"].max(),\n",
    "            sims[key][\"num_rulesets_df\"][\"counts\"].mean(),\n",
    "        ]\n",
    "        for key in sims\n",
    "        if sims[key][\"error\"] is None\n",
    "    ],\n",
    "    columns=[\n",
    "        \"key\",\n",
    "        \"num_nodes\",\n",
    "        \"num_subnets\",\n",
    "        \"num_rulesets_min\",\n",
    "        \"num_rulesets_max\",\n",
    "        \"num_rulesets_mean\",\n",
    "    ],\n",
    ")\n",
    "df_sims\n"
   ]
  },
  {
   "cell_type": "code",
   "execution_count": null,
   "metadata": {},
   "outputs": [],
   "source": [
    "# save the sims obj to pickle\n",
    "with open(\"./sims.pickle\", \"wb\") as f:\n",
    "    import pickle\n",
    "    pickle.dump(sims, f)"
   ]
  },
  {
   "cell_type": "code",
   "execution_count": null,
   "metadata": {},
   "outputs": [],
   "source": [
    "# load result from pickle file\n",
    "# check if sims is defined or not.\n",
    "try:\n",
    "    sims\n",
    "except NameError:\n",
    "    # if sims is not defined, load it from pickle file\n",
    "    import pickle\n",
    "    with open(\"sims.pickle\", \"rb\") as f:\n",
    "        sims = pickle.load(f)"
   ]
  },
  {
   "cell_type": "code",
   "execution_count": null,
   "metadata": {},
   "outputs": [],
   "source": [
    "px.line(df_sims, x=\"num_subnets\", y=\"num_rulesets_mean\", color=\"num_nodes\")"
   ]
  },
  {
   "cell_type": "code",
   "execution_count": null,
   "metadata": {},
   "outputs": [],
   "source": [
    "px.line(df_sims, x=\"num_nodes\", y=\"num_rulesets_mean\", color=\"num_subnets\")"
   ]
  },
  {
   "cell_type": "code",
   "execution_count": null,
   "metadata": {},
   "outputs": [],
   "source": [
    "print(\"exist df\",[key for key in sims if sims[key].get(\"df\") is None])\n",
    "print(\"error:\", [key for key in sims if sims[key][\"error\"]])\n",
    "sims[list(sims.keys())[2]]\n",
    "[sims[k] for k in sims]\n",
    "\n"
   ]
  }
 ],
 "metadata": {
  "kernelspec": {
   "display_name": ".venv",
   "language": "python",
   "name": "python3"
  },
  "language_info": {
   "codemirror_mode": {
    "name": "ipython",
    "version": 3
   },
   "file_extension": ".py",
   "mimetype": "text/x-python",
   "name": "python",
   "nbconvert_exporter": "python",
   "pygments_lexer": "ipython3",
   "version": "3.9.16"
  },
  "orig_nbformat": 4
 },
 "nbformat": 4,
 "nbformat_minor": 2
}
