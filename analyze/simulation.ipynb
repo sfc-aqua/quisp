{
 "cells": [
  {
   "cell_type": "code",
   "execution_count": null,
   "metadata": {},
   "outputs": [],
   "source": [
    "%%capture\n",
    "%pip install pandas matplotlib plotly 'nbformat>=4.2.0' 'ipywidgets>=7.6'\n",
    "%load_ext autoreload\n",
    "%autoreload 2"
   ]
  },
  {
   "cell_type": "code",
   "execution_count": null,
   "metadata": {},
   "outputs": [],
   "source": [
    "import pandas as pd\n",
    "from matplotlib import pyplot as plt\n",
    "import plotly.express as px\n",
    "import plotly.graph_objects as go\n",
    "\n",
    "from quisp import QNode, Network, ChannelOption, QNodeAddr, NativeSimulator, Config, NetworkBuilder"
   ]
  },
  {
   "cell_type": "code",
   "execution_count": null,
   "metadata": {},
   "outputs": [],
   "source": [
    "n = NetworkBuilder(\"simple_7nodes_internetworking\")\n",
    "n.add_qnode([QNodeAddr(1,1), QNodeAddr(3,1)], is_initiator=True)\n",
    "n.add_qnode([QNodeAddr(3,2)])\n",
    "n.add_qnode([QNodeAddr(3,3)])\n",
    "n.add_qnode([QNodeAddr(1,99),QNodeAddr(3,99)])\n",
    "n.add_qnode([QNodeAddr(2,99),QNodeAddr(4,99)])\n",
    "n.add_qnode([QNodeAddr(4,2)])\n",
    "n.add_qnode([QNodeAddr(2,1), QNodeAddr(4,1)], is_resipient=True)\n",
    "n.connect_linear()\n",
    "network = n.network\n",
    "\n",
    "sim = NativeSimulator(\"../quisp\")\n",
    "sim.load(network)\n",
    "await sim.run()\n",
    "print(sim.error_messages)\n",
    "sim.read_result()\n",
    "print(sim.results)\n",
    "print(sim.df)\n",
    "sim.df[sim.df['msg_type'] == 'ConnectionSetupResponse']"
   ]
  },
  {
   "cell_type": "code",
   "execution_count": null,
   "metadata": {},
   "outputs": [],
   "source": [
    "network = Network(\"test\")\n",
    "qnode1 = QNode(network, name=\"qnode1\", addr=QNodeAddr(1,1), is_initiator=True)\n",
    "qnode2 = QNode(network, name=\"qnode2\", addr=QNodeAddr(1,2))\n",
    "qnode3 = QNode(network, name=\"qnode3\", addr=QNodeAddr(1,3))\n",
    "qnode4 = QNode(network, name=\"qnode4\", addr=QNodeAddr(1,4))\n",
    "qnode5 = QNode(network, name=\"qnode5\", addr=QNodeAddr(1,5))\n",
    "qnode6 = QNode(network, name=\"qnode6\", addr=QNodeAddr(1,6))\n",
    "qnode7 = QNode(network, name=\"qnode7\", addr=QNodeAddr(1,7), is_recipient=True)\n",
    "qnode1.connect(qnode2, ChannelOption(quantum_channel_distance=1.0, classical_channel_distance=1.0))\n",
    "qnode2.connect(qnode3, ChannelOption(quantum_channel_distance=1.0, classical_channel_distance=1.0))\n",
    "qnode3.connect(qnode4, ChannelOption(quantum_channel_distance=1.0, classical_channel_distance=1.0))\n",
    "qnode4.connect(qnode5, ChannelOption(quantum_channel_distance=1.0, classical_channel_distance=1.0))\n",
    "qnode5.connect(qnode6, ChannelOption(quantum_channel_distance=1.0, classical_channel_distance=1.0))\n",
    "qnode6.connect(qnode7, ChannelOption(quantum_channel_distance=1.0, classical_channel_distance=1.0))\n",
    "\n",
    "\n",
    "sim = NativeSimulator(\"../quisp\")\n",
    "sim.load(network)\n",
    "await sim.run()\n",
    "sim.read_result()"
   ]
  },
  {
   "cell_type": "code",
   "execution_count": null,
   "metadata": {},
   "outputs": [],
   "source": [
    "# sim.df.head(20)\n",
    "print(sim.output)"
   ]
  }
 ],
 "metadata": {
  "kernelspec": {
   "display_name": ".venv",
   "language": "python",
   "name": "python3"
  },
  "language_info": {
   "codemirror_mode": {
    "name": "ipython",
    "version": 3
   },
   "file_extension": ".py",
   "mimetype": "text/x-python",
   "name": "python",
   "nbconvert_exporter": "python",
   "pygments_lexer": "ipython3",
   "version": "3.10.6"
  },
  "orig_nbformat": 4
 },
 "nbformat": 4,
 "nbformat_minor": 2
}
