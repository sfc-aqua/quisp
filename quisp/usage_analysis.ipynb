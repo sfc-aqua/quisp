{
 "cells": [
  {
   "cell_type": "code",
   "execution_count": 1,
   "metadata": {},
   "outputs": [],
   "source": [
    "%%capture\n",
    "%pip install pandas matplotlib\n",
    "%load_ext autoreload\n",
    "%autoreload 2"
   ]
  },
  {
   "cell_type": "code",
   "execution_count": null,
   "metadata": {},
   "outputs": [
    {
     "ename": "",
     "evalue": "",
     "output_type": "error",
     "traceback": [
      "\u001b[1;31mRunning cells with '/bin/python3.9' requires the ipykernel package.\n",
      "\u001b[1;31mRun the following command to install 'ipykernel' into the Python environment. \n",
      "\u001b[1;31mCommand: '/bin/python3.9 -m pip install ipykernel -U --user --force-reinstall'"
     ]
    }
   ],
   "source": [
    "import pickle\n",
    "import pandas as pd\n",
    "from matplotlib import pyplot as plt\n",
    "from analysis_utils import (\n",
    "    pivot_by_cond,\n",
    "    load_logs_from_jsonl,\n",
    "    load_results_from_pickle,\n",
    "    calc_durations,\n",
    "    plot_timeline,\n",
    ")"
   ]
  },
  {
   "cell_type": "code",
   "execution_count": 3,
   "metadata": {},
   "outputs": [
    {
     "ename": "FileNotFoundError",
     "evalue": "[Errno 2] No such file or directory: 'results.pickle'",
     "output_type": "error",
     "traceback": [
      "\u001b[0;31m---------------------------------------------------------------------------\u001b[0m",
      "\u001b[0;31mFileNotFoundError\u001b[0m                         Traceback (most recent call last)",
      "\u001b[1;32m/Users/kento/Dev/quisps/quispr/templates/analysis.ipynb Cell 3\u001b[0m line \u001b[0;36m4\n\u001b[1;32m      <a href='vscode-notebook-cell:/Users/kento/Dev/quisps/quispr/templates/analysis.ipynb#W2sZmlsZQ%3D%3D?line=0'>1</a>\u001b[0m \u001b[39m# load results and parameters from pickle\u001b[39;00m\n\u001b[1;32m      <a href='vscode-notebook-cell:/Users/kento/Dev/quisps/quispr/templates/analysis.ipynb#W2sZmlsZQ%3D%3D?line=1'>2</a>\u001b[0m results \u001b[39m=\u001b[39m [\u001b[39m\"\u001b[39m\u001b[39mnum_total_events\u001b[39m\u001b[39m\"\u001b[39m, \u001b[39m\"\u001b[39m\u001b[39muser\u001b[39m\u001b[39m\"\u001b[39m, \u001b[39m\"\u001b[39m\u001b[39msys\u001b[39m\u001b[39m\"\u001b[39m]\n\u001b[0;32m----> <a href='vscode-notebook-cell:/Users/kento/Dev/quisps/quispr/templates/analysis.ipynb#W2sZmlsZQ%3D%3D?line=3'>4</a>\u001b[0m df, params, dataset, sim_names \u001b[39m=\u001b[39m load_results_from_pickle()\n\u001b[1;32m      <a href='vscode-notebook-cell:/Users/kento/Dev/quisps/quispr/templates/analysis.ipynb#W2sZmlsZQ%3D%3D?line=4'>5</a>\u001b[0m \u001b[39mprint\u001b[39m(df\u001b[39m.\u001b[39mdtypes)\n",
      "File \u001b[0;32m~/Dev/quisps/quispr/templates/analysis_utils.py:46\u001b[0m, in \u001b[0;36mload_results_from_pickle\u001b[0;34m()\u001b[0m\n\u001b[1;32m     44\u001b[0m \u001b[39mdef\u001b[39;00m \u001b[39mload_results_from_pickle\u001b[39m() \u001b[39m-\u001b[39m\u001b[39m>\u001b[39m \u001b[39m\"\u001b[39m\u001b[39mTuple[DataFrame, List[str], List[Any], List[str]]\u001b[39m\u001b[39m\"\u001b[39m:\n\u001b[1;32m     45\u001b[0m \u001b[39m    \u001b[39m\u001b[39m\"\"\"load DataFrame, parameters, dataset and simulation names from './results.pickle'\"\"\"\u001b[39;00m\n\u001b[0;32m---> 46\u001b[0m     \u001b[39mwith\u001b[39;00m \u001b[39mopen\u001b[39;49m(\u001b[39m\"\u001b[39;49m\u001b[39mresults.pickle\u001b[39;49m\u001b[39m\"\u001b[39;49m, \u001b[39m\"\u001b[39;49m\u001b[39mrb\u001b[39;49m\u001b[39m\"\u001b[39;49m) \u001b[39mas\u001b[39;00m f:\n\u001b[1;32m     47\u001b[0m         dataset \u001b[39m=\u001b[39m pickle\u001b[39m.\u001b[39mload(f)\n\u001b[1;32m     48\u001b[0m         all_params \u001b[39m=\u001b[39m dataset[\u001b[39m\"\u001b[39m\u001b[39m__params__\u001b[39m\u001b[39m\"\u001b[39m]\n",
      "\u001b[0;31mFileNotFoundError\u001b[0m: [Errno 2] No such file or directory: 'results.pickle'"
     ]
    }
   ],
   "source": [
    "# load results and parameters from pickle\n",
    "results = [\"num_total_events\", \"user\", \"sys\"]\n",
    "\n",
    "df, params, dataset, sim_names = load_results_from_pickle()\n",
    "print(df.dtypes)"
   ]
  },
  {
   "cell_type": "code",
   "execution_count": null,
   "metadata": {},
   "outputs": [],
   "source": [
    "df[params]"
   ]
  },
  {
   "cell_type": "code",
   "execution_count": null,
   "metadata": {},
   "outputs": [],
   "source": [
    "# you can specify the conditions to filter the dataframe\n",
    "condition = {\"purification_type\": 0, \"link_type\": '\"MIM\"'}\n",
    "\n",
    "if \"num_node\" in params:\n",
    "    pivot_by_cond(df, params=params, x=\"num_node\", value=\"user\", cond=condition).plot(\n",
    "        figsize=(15, 15), ylabel=\"duration (s)\"\n",
    "    )\n",
    "else:\n",
    "    print(f\"no parameter found: num_node\")"
   ]
  },
  {
   "cell_type": "code",
   "execution_count": null,
   "metadata": {},
   "outputs": [],
   "source": [
    "logs = load_logs_from_jsonl(sim_names)\n",
    "\n",
    "# specify a simulation to show timeline\n",
    "sim_name = sim_names[0]\n",
    "log = logs[sim_name]\n",
    "\n",
    "durations = calc_durations(log)\n",
    "\n",
    "fig, ax = plt.subplots(figsize=(35, 22))\n",
    "plt.xlim([0, 0.001])\n",
    "plot_timeline(ax, durations, \"qubit_busy\")\n",
    "plot_timeline(ax, durations, \"qubit_allocation\")\n",
    "plot_timeline(ax, durations, \"bp_lifetime\")\n",
    "for e in durations[\"bp_annotations\"]:\n",
    "    text, x, y = e\n",
    "    ax.annotate(text, xy=(x, y))\n",
    "\n",
    "ax.legend(loc=(0.01, 0.01))\n",
    "print(sim_name)"
   ]
  }
 ],
 "metadata": {
  "kernelspec": {
   "display_name": "quisp-experiments-HoBj5-wZ-py3.10",
   "language": "python",
   "name": "python3"
  },
  "language_info": {
   "codemirror_mode": {
    "name": "ipython",
    "version": 3
   },
   "file_extension": ".py",
   "mimetype": "text/x-python",
   "name": "python",
   "nbconvert_exporter": "python",
   "pygments_lexer": "ipython3",
   "version": "3.9.16"
  },
  "orig_nbformat": 4,
  "vscode": {
   "interpreter": {
    "hash": "335e9f3f1c94f04e4b88d351fe5ea6650b91ee709eaca9416b3433e276db115b"
   }
  }
 },
 "nbformat": 4,
 "nbformat_minor": 2
}
